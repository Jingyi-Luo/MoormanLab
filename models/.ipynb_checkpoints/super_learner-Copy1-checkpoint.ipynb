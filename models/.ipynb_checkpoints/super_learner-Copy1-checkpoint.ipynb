{
 "cells": [
  {
   "cell_type": "code",
   "execution_count": 179,
   "metadata": {},
   "outputs": [],
   "source": [
    "import os\n",
    "import pandas as pd\n",
    "import numpy as np\n",
    "from imblearn.over_sampling import SMOTE\n",
    "from sklearn.model_selection import train_test_split\n",
    "from sklearn.model_selection import GridSearchCV\n",
    "from sklearn.linear_model import LogisticRegression\n",
    "from sklearn.metrics import confusion_matrix, precision_recall_curve, auc, roc_auc_score, roc_curve, recall_score, classification_report\n",
    "from sklearn.linear_model import SGDClassifier\n",
    "import matplotlib.pyplot as plt\n",
    "import itertools\n",
    "from sklearn.model_selection import KFold\n",
    "from sklearn import linear_model\n",
    "from sklearn.ensemble import RandomForestClassifier\n",
    "import random\n",
    "from sklearn.calibration import CalibratedClassifierCV\n",
    "from sklearn.svm import SVC\n",
    "from sklearn.neighbors import KNeighborsClassifier\n",
    "from sklearn.naive_bayes import GaussianNB\n",
    "from sklearn.preprocessing import StandardScaler\n",
    "import warnings\n",
    "warnings.filterwarnings(\"ignore\")"
   ]
  },
  {
   "cell_type": "code",
   "execution_count": null,
   "metadata": {},
   "outputs": [],
   "source": []
  },
  {
   "cell_type": "code",
   "execution_count": 3,
   "metadata": {},
   "outputs": [],
   "source": [
    "raw = pd.read_csv(\"./moss_plos_one_data.csv\")  # (2217958, 62)\n"
   ]
  },
  {
   "cell_type": "code",
   "execution_count": 4,
   "metadata": {},
   "outputs": [
    {
     "data": {
      "text/html": [
       "<div>\n",
       "<style scoped>\n",
       "    .dataframe tbody tr th:only-of-type {\n",
       "        vertical-align: middle;\n",
       "    }\n",
       "\n",
       "    .dataframe tbody tr th {\n",
       "        vertical-align: top;\n",
       "    }\n",
       "\n",
       "    .dataframe thead th {\n",
       "        text-align: right;\n",
       "    }\n",
       "</style>\n",
       "<table border=\"1\" class=\"dataframe\">\n",
       "  <thead>\n",
       "    <tr style=\"text-align: right;\">\n",
       "      <th></th>\n",
       "      <th>count</th>\n",
       "      <th>percent</th>\n",
       "    </tr>\n",
       "  </thead>\n",
       "  <tbody>\n",
       "    <tr>\n",
       "      <th>Sgy</th>\n",
       "      <td>2211055</td>\n",
       "      <td>0.996888</td>\n",
       "    </tr>\n",
       "    <tr>\n",
       "      <th>MET</th>\n",
       "      <td>2061720</td>\n",
       "      <td>0.929558</td>\n",
       "    </tr>\n",
       "    <tr>\n",
       "      <th>eid</th>\n",
       "      <td>1974558</td>\n",
       "      <td>0.890259</td>\n",
       "    </tr>\n",
       "    <tr>\n",
       "      <th>tte</th>\n",
       "      <td>1974558</td>\n",
       "      <td>0.890259</td>\n",
       "    </tr>\n",
       "    <tr>\n",
       "      <th>death</th>\n",
       "      <td>1974558</td>\n",
       "      <td>0.890259</td>\n",
       "    </tr>\n",
       "    <tr>\n",
       "      <th>direct</th>\n",
       "      <td>1974558</td>\n",
       "      <td>0.890259</td>\n",
       "    </tr>\n",
       "  </tbody>\n",
       "</table>\n",
       "</div>"
      ],
      "text/plain": [
       "          count   percent\n",
       "Sgy     2211055  0.996888\n",
       "MET     2061720  0.929558\n",
       "eid     1974558  0.890259\n",
       "tte     1974558  0.890259\n",
       "death   1974558  0.890259\n",
       "direct  1974558  0.890259"
      ]
     },
     "execution_count": 4,
     "metadata": {},
     "output_type": "execute_result"
    }
   ],
   "source": [
    "def get_na_rate(dataframe):\n",
    "    na_count = dataframe.isnull().sum()\n",
    "    na_rate = na_count / len(dataframe)\n",
    "    df_na = pd.concat([na_count, na_rate], axis=1, keys=['count', 'percent'])\n",
    "    df_na = df_na[df_na['percent']>0]\n",
    "    df_na = df_na.sort_values(['percent'], ascending=False)\n",
    "    return df_na\n",
    "\n",
    "df_na = get_na_rate(raw)\n",
    "df_na\n"
   ]
  },
  {
   "cell_type": "code",
   "execution_count": 5,
   "metadata": {},
   "outputs": [],
   "source": [
    "all_data = raw.drop(['Sgy', 'MET','eid','tte','death','direct','n_evts','LOS', 'ICU_Pt_Days', 'Mort', 'age', 'race', 'svc'], axis=1)  # (2217958, 56)"
   ]
  },
  {
   "cell_type": "code",
   "execution_count": 6,
   "metadata": {},
   "outputs": [],
   "source": [
    "all_data[\"num\"] = all_data.groupby(\"id\").cumcount()"
   ]
  },
  {
   "cell_type": "code",
   "execution_count": 7,
   "metadata": {},
   "outputs": [],
   "source": [
    "all_data = all_data[all_data.num % 4 == 0]\n",
    "all_data.drop([\"num\"], axis=1,inplace=True)"
   ]
  },
  {
   "cell_type": "code",
   "execution_count": 8,
   "metadata": {},
   "outputs": [
    {
     "data": {
      "text/plain": [
       "(557555, 49)"
      ]
     },
     "execution_count": 8,
     "metadata": {},
     "output_type": "execute_result"
    }
   ],
   "source": [
    "all_data.shape"
   ]
  },
  {
   "cell_type": "code",
   "execution_count": 180,
   "metadata": {},
   "outputs": [
    {
     "data": {
      "text/plain": [
       "6028"
      ]
     },
     "execution_count": 180,
     "metadata": {},
     "output_type": "execute_result"
    }
   ],
   "source": [
    "len(all_data[all_data.y==True])"
   ]
  },
  {
   "cell_type": "markdown",
   "metadata": {},
   "source": [
    "### ??? Some columns (Resp) have zeros"
   ]
  },
  {
   "cell_type": "code",
   "execution_count": 9,
   "metadata": {},
   "outputs": [],
   "source": [
    "id_list = list(set(all_data['id']))  # 8105\n",
    "id_true = list(set(all_data[all_data['y'] == True].id))       # 367\n",
    "id_false = [id for id in id_list if id not in id_true]        # 7738\n"
   ]
  },
  {
   "cell_type": "code",
   "execution_count": 10,
   "metadata": {},
   "outputs": [],
   "source": [
    "np.random.shuffle(id_true)\n",
    "np.random.shuffle(id_false)\n"
   ]
  },
  {
   "cell_type": "code",
   "execution_count": 11,
   "metadata": {},
   "outputs": [],
   "source": [
    "id_true_1 = id_true[0:73]\n",
    "id_true_2 = id_true[73:147]\n",
    "id_true_3 = id_true[147:221]\n",
    "id_true_4 = id_true[221:294]\n",
    "id_true_5 = id_true[294:]\n",
    "id_false_1 = id_false[0:1547]\n",
    "id_false_2 = id_false[1547:3094]\n",
    "id_false_3 = id_false[3094:4641]\n",
    "id_false_4 = id_false[4641:6188]\n",
    "id_false_5 = id_false[6188:]\n",
    "log_vs_id = []\n",
    "log_lab_id = []\n",
    "log_ecg_id = []\n",
    "svm_vs_id = []\n",
    "svm_lab_id = []\n",
    "svm_ecg_id = []\n",
    "rf_vs_id = []\n",
    "rf_lab_id = []\n",
    "rf_ecg_id = []\n",
    "#=================\n",
    "log_vs_roc = []\n",
    "log_lab_roc = []\n",
    "log_ecg_roc = []\n",
    "rf_vs_roc = []\n",
    "rf_lab_roc = []\n",
    "rf_ecg_roc = []\n",
    "svm_vs_roc = []\n",
    "svm_lab_roc = []\n",
    "svm_ecg_roc = []\n"
   ]
  },
  {
   "cell_type": "code",
   "execution_count": 12,
   "metadata": {
    "scrolled": true
   },
   "outputs": [
    {
     "name": "stdout",
     "output_type": "stream",
     "text": [
      "\n",
      "new loop starts============\n",
      "true shape: 39505  false shape: 409374\n",
      "true shape: 8035  false shape: 100641\n",
      "After SMOTE \"True\":444082 \"False\": 444082\n",
      "total number of patients found by log vs: 206\n",
      "patient found by log vs: 12\n",
      "non_event patient found by log vs: 21\n",
      "[3714, 4234, 3091, 5270, 1830, 6070, 3511, 7618, 2005, 2647, 2806, 5886]\n",
      "total number of patients found by log lab: 61\n",
      "patient found by log lab: 2\n",
      "non_event patient found by log lab: 2\n",
      "total number of patients found by log ecg: 15\n",
      "patient found by log ecg: 2\n",
      "non_event patient found by log ecg: 10\n",
      "total number of patients found by rf vs: 3087\n",
      "patient found by rf vs: 42\n",
      "non_event patient found by rf vs: 464\n",
      "total number of patients found by rf lab: 2810\n",
      "patient found by rf lab: 20\n",
      "non_event patient found by rf lab: 135\n",
      "total number of patients found by rf ecg: 625\n",
      "patient found by rf ecg: 21\n",
      "non_event patient found by rf ecg: 230\n",
      "total number of patients found by gb vs: 5177\n",
      "patient found by gb vs: 44\n",
      "non_event patient found by gb vs: 296\n",
      "total number of patients found by gb lab: 6173\n",
      "patient found by gb lab: 28\n",
      "non_event patient found by gb lab: 142\n",
      "total number of patients found by gb ecg: 8495\n",
      "patient found by gb ecg: 65\n",
      "non_event patient found by gb ecg: 1230\n",
      "\n",
      "new loop starts============\n",
      "true shape: 36384  false shape: 407737\n",
      "true shape: 11156  false shape: 102278\n",
      "After SMOTE \"True\":439252 \"False\": 439252\n",
      "total number of patients found by log vs: 245\n",
      "patient found by log vs: 11\n",
      "non_event patient found by log vs: 22\n",
      "[3466, 282, 6190, 2489, 6459, 3261, 6463, 191, 6217, 4318, 5740]\n",
      "total number of patients found by log lab: 31\n",
      "patient found by log lab: 2\n",
      "non_event patient found by log lab: 1\n",
      "total number of patients found by log ecg: 16\n",
      "patient found by log ecg: 1\n",
      "non_event patient found by log ecg: 13\n",
      "total number of patients found by rf vs: 3909\n",
      "patient found by rf vs: 45\n",
      "non_event patient found by rf vs: 519\n",
      "total number of patients found by rf lab: 3435\n",
      "patient found by rf lab: 24\n",
      "non_event patient found by rf lab: 137\n",
      "total number of patients found by rf ecg: 747\n",
      "patient found by rf ecg: 27\n",
      "non_event patient found by rf ecg: 265\n",
      "total number of patients found by gb vs: 4653\n",
      "patient found by gb vs: 43\n",
      "non_event patient found by gb vs: 324\n",
      "total number of patients found by gb lab: 6848\n",
      "patient found by gb lab: 24\n",
      "non_event patient found by gb lab: 144\n",
      "total number of patients found by gb ecg: 6387\n",
      "patient found by gb ecg: 70\n",
      "non_event patient found by gb ecg: 1303\n",
      "\n",
      "new loop starts============\n",
      "true shape: 39733  false shape: 405309\n",
      "true shape: 7807  false shape: 104706\n",
      "After SMOTE \"True\":440134 \"False\": 440134\n",
      "total number of patients found by log vs: 277\n",
      "patient found by log vs: 12\n",
      "non_event patient found by log vs: 32\n",
      "[4869, 7306, 7189, 2084, 6191, 2995, 5431, 7224, 6841, 5959, 3949, 5618]\n",
      "total number of patients found by log lab: 0\n",
      "patient found by log lab: 0\n",
      "non_event patient found by log lab: 0\n",
      "total number of patients found by log ecg: 14\n",
      "patient found by log ecg: 0\n",
      "non_event patient found by log ecg: 8\n",
      "total number of patients found by rf vs: 3702\n",
      "patient found by rf vs: 30\n",
      "non_event patient found by rf vs: 527\n",
      "total number of patients found by rf lab: 2271\n",
      "patient found by rf lab: 19\n",
      "non_event patient found by rf lab: 119\n",
      "total number of patients found by rf ecg: 700\n",
      "patient found by rf ecg: 25\n",
      "non_event patient found by rf ecg: 254\n",
      "total number of patients found by gb vs: 5792\n",
      "patient found by gb vs: 38\n",
      "non_event patient found by gb vs: 340\n",
      "total number of patients found by gb lab: 6635\n",
      "patient found by gb lab: 32\n",
      "non_event patient found by gb lab: 166\n",
      "total number of patients found by gb ecg: 7078\n",
      "patient found by gb ecg: 69\n",
      "non_event patient found by gb ecg: 1245\n",
      "\n",
      "new loop starts============\n",
      "true shape: 35294  false shape: 410785\n",
      "true shape: 12246  false shape: 99230\n",
      "After SMOTE \"True\":441409 \"False\": 441409\n",
      "total number of patients found by log vs: 208\n",
      "patient found by log vs: 13\n",
      "non_event patient found by log vs: 18\n",
      "[2817, 3354, 3358, 6849, 6087, 4045, 5587, 5594, 5600, 4071, 1901, 6893, 5754]\n",
      "total number of patients found by log lab: 7\n",
      "patient found by log lab: 0\n",
      "non_event patient found by log lab: 1\n",
      "total number of patients found by log ecg: 12\n",
      "patient found by log ecg: 3\n",
      "non_event patient found by log ecg: 5\n",
      "total number of patients found by rf vs: 3591\n",
      "patient found by rf vs: 49\n",
      "non_event patient found by rf vs: 501\n",
      "total number of patients found by rf lab: 3169\n",
      "patient found by rf lab: 27\n",
      "non_event patient found by rf lab: 131\n",
      "total number of patients found by rf ecg: 617\n",
      "patient found by rf ecg: 28\n",
      "non_event patient found by rf ecg: 205\n",
      "total number of patients found by gb vs: 5416\n",
      "patient found by gb vs: 42\n",
      "non_event patient found by gb vs: 274\n",
      "total number of patients found by gb lab: 6003\n",
      "patient found by gb lab: 33\n",
      "non_event patient found by gb lab: 117\n",
      "total number of patients found by gb ecg: 6688\n",
      "patient found by gb ecg: 68\n",
      "non_event patient found by gb ecg: 1188\n",
      "\n",
      "new loop starts============\n",
      "true shape: 39244  false shape: 406855\n",
      "true shape: 8296  false shape: 103160\n",
      "After SMOTE \"True\":441231 \"False\": 441231\n",
      "total number of patients found by log vs: 313\n",
      "patient found by log vs: 10\n",
      "non_event patient found by log vs: 19\n",
      "[7946, 6168, 5659, 7710, 7712, 6572, 958, 4291, 4067, 2284]\n",
      "total number of patients found by log lab: 23\n",
      "patient found by log lab: 0\n",
      "non_event patient found by log lab: 2\n",
      "total number of patients found by log ecg: 11\n",
      "patient found by log ecg: 2\n",
      "non_event patient found by log ecg: 6\n",
      "total number of patients found by rf vs: 3501\n",
      "patient found by rf vs: 47\n",
      "non_event patient found by rf vs: 501\n",
      "total number of patients found by rf lab: 2855\n",
      "patient found by rf lab: 18\n",
      "non_event patient found by rf lab: 131\n",
      "total number of patients found by rf ecg: 727\n",
      "patient found by rf ecg: 25\n",
      "non_event patient found by rf ecg: 272\n",
      "total number of patients found by gb vs: 5794\n",
      "patient found by gb vs: 42\n",
      "non_event patient found by gb vs: 318\n",
      "total number of patients found by gb lab: 5595\n",
      "patient found by gb lab: 27\n",
      "non_event patient found by gb lab: 137\n",
      "total number of patients found by gb ecg: 5760\n",
      "patient found by gb ecg: 68\n",
      "non_event patient found by gb ecg: 1251\n"
     ]
    }
   ],
   "source": [
    "for i in range(5):\n",
    "    vs_unique = []\n",
    "    lab_unique = []\n",
    "    ecg_unique = []\n",
    "    print()\n",
    "    print(\"new loop starts============\")\n",
    "    if i ==0:\n",
    "        id_true_0 = id_true_1\n",
    "        id_false_sample = id_false_1\n",
    "    if i ==1:\n",
    "        id_true_0 = id_true_2\n",
    "        id_false_sample = id_false_2\n",
    "    if i ==2:\n",
    "        id_true_0 = id_true_3\n",
    "        id_false_sample = id_false_3\n",
    "    if i ==3:\n",
    "        id_true_0 = id_true_4\n",
    "        id_false_sample = id_false_4\n",
    "    if i ==4:\n",
    "        id_true_0 = id_true_5\n",
    "        id_false_sample = id_false_5\n",
    "    #5 folds cross validation\n",
    "    id_false_train =[id for id in id_false if id not in id_false_sample]\n",
    "    true_train_1 = [id for id in id_true if id not in id_true_0]\n",
    "    df_train1_true = all_data[all_data['id'].isin(true_train_1)]\n",
    "    df_train1_false = all_data[all_data['id'].isin(id_false_train)] \n",
    "    df_train_1 = pd.concat([df_train1_true, df_train1_false], ignore_index=True, axis=0)  # (411272, 56)\n",
    "    print ('true shape: %d  false shape: %d'%(df_train1_true.shape[0], df_train1_false.shape[0]))\n",
    "    df_test1_true = all_data[all_data['id'].isin(id_true_0)]\n",
    "    df_test1_false = all_data[all_data['id'].isin(id_false_sample)]\n",
    "    df_test_1 = pd.concat([df_test1_true, df_test1_false], axis=0)\n",
    "    print ('true shape: %d  false shape: %d'%(df_test1_true.shape[0], df_test1_false.shape[0]))\n",
    "    y_train_1 = df_train_1.y\n",
    "    x_train_1 = df_train_1.drop(['y'], axis=1)\n",
    "    sm = SMOTE(random_state=42)\n",
    "    X_train, y_train = sm.fit_sample(x_train_1, y_train_1)\n",
    "    print ('After SMOTE \"True\":%d \"False\": %d' % (sum(y_train == 1), sum(y_train == 0)))\n",
    "    y_test_1 = df_test_1.y\n",
    "    patient_id = df_test_1.id\n",
    "    x_test_1 = df_test_1.drop(['y'], axis=1)\n",
    "    id_array = patient_id.values\n",
    "    \n",
    "    #=========\n",
    "    #logictic regression\n",
    "    #==========\n",
    "    lr = LogisticRegression()\n",
    "    #  Predict with all VS variables\n",
    "    cols = [\"Pulse\",\"O2.Flow\",\"Resp\",\"SpO2\",\"SBP\",\"Glasgow.Coma.Scale.Total\"]\n",
    "    X_train_1 = x_train_1[cols]\n",
    "    X_test_1 = x_test_1[cols]\n",
    "    lr = lr.fit(X_train_1, y_train_1)\n",
    "    pred = lr.predict_proba(X_test_1)[:, 1]\n",
    "    print(\"total number of patients found by log vs: %d\" %sum(pred>0.1))\n",
    "    print(\"patient found by log vs:\",len([i for i in list(set(id_array[pred>0.1])) if i in id_true]))\n",
    "    print(\"non_event patient found by log vs:\",len([i for i in list(set(id_array[pred>0.1])) if i in id_false]))\n",
    "    print([i for i in list(set(id_array[pred>0.1])) if i in id_true])\n",
    "    log_vs_roc.append(roc_auc_score(y_test_1, pred))\n",
    "    log_vs_id += [i for i in list(set(id_array[pred>0.1])) if i in id_true]\n",
    "    #  Predict with all lab results\n",
    "    cols = [\"WHITE.BLOOD.CELL.COUNT\",\"BLOOD.UREA.NITROGEN\",\"AST.GOT\",\n",
    "        \"PLATELET.COUNT\",\"GLUCOSE\",\"PCO2\",\"POTASSIUM\",\"SODIUM\",\"CO2\"]\n",
    "    X_train_1 = x_train_1[cols]\n",
    "    X_test_1 = x_test_1[cols]\n",
    "    lr = lr.fit(X_train_1, y_train_1)\n",
    "    pred = lr.predict_proba(X_test_1)[:, 1]\n",
    "    print(\"total number of patients found by log lab: %d\" %sum(pred>0.1))\n",
    "    log_lab_roc.append(roc_auc_score(y_test_1, pred))\n",
    "    print(\"patient found by log lab:\", len([i for i in list(set(id_array[pred>0.1])) if i in id_true]))\n",
    "    print(\"non_event patient found by log lab:\",len([i for i in list(set(id_array[pred>0.1])) if i in id_false]))\n",
    "    log_lab_id += [i for i in list(set(id_array[pred>0.1])) if i in id_true]\n",
    "    #===========================\n",
    "    #  Predict with ECG results\n",
    "    cols = ['hr', 's2.hr', 's8.hr', 's24.hr', 'n.edrk',\n",
    "           'edrk', 's2.edrk', 's8.edrk', 's24.edrk', 'srr', 'dfa', 'cosen', 'lds',\n",
    "           'af', 'AF']\n",
    "    X_train_1 = x_train_1[cols]\n",
    "    X_test_1 = x_test_1[cols]\n",
    "    lr = lr.fit(X_train_1, y_train_1)\n",
    "    pred = lr.predict_proba(X_test_1)[:, 1]\n",
    "    log_ecg_roc.append(roc_auc_score(y_test_1, pred))\n",
    "    print(\"total number of patients found by log ecg: %d\" %sum(pred>0.1))\n",
    "    print(\"patient found by log ecg:\",len([i for i in list(set(id_array[pred>0.1])) if i in id_true]))\n",
    "    print(\"non_event patient found by log ecg:\",len([i for i in list(set(id_array[pred>0.1])) if i in id_false]))\n",
    "    log_ecg_id += [i for i in list(set(id_array[pred>0.1])) if i in id_true]\n",
    "    #=========\n",
    "    #Randomforest\n",
    "    #=========\n",
    "    def c_stat(model, x_train_1, x_test_1, y_train_1, y_test_1, cols):\n",
    "        X_train_1 = x_train_1[cols]\n",
    "        X_test_1 = x_test_1[cols]\n",
    "        model = model.fit(X_train_1, y_train_1)\n",
    "        pred = model.predict_proba(X_test_1)[:, 1]\n",
    "        return pred, roc_auc_score(y_test_1, pred)\n",
    "    #  Predict with all VS variables\n",
    "    forest = RandomForestClassifier(n_estimators=100, n_jobs = -1, random_state=0)\n",
    "    cols = [\"Pulse\",\"O2.Flow\",\"Resp\",\"SpO2\",\"SBP\",\"Glasgow.Coma.Scale.Total\"]\n",
    "    pred, roc = c_stat(forest, x_train_1, x_test_1, y_train_1, y_test_1, cols)\n",
    "    rf_vs_roc.append(roc)\n",
    "    print(\"total number of patients found by rf vs: %d\" %sum(pred>0.1))\n",
    "    print(\"patient found by rf vs:\",len([i for i in list(set(id_array[pred>0.1])) if i in id_true]))\n",
    "    print(\"non_event patient found by rf vs:\",len([i for i in list(set(id_array[pred>0.1])) if i in id_false]))\n",
    "    rf_vs_id += [i for i in list(set(id_array[pred>0.1])) if i in id_true]\n",
    "    \n",
    "    #  Predict with all lab results\n",
    "    cols = [\"WHITE.BLOOD.CELL.COUNT\",\"BLOOD.UREA.NITROGEN\",\"AST.GOT\",\n",
    "            \"PLATELET.COUNT\",\"GLUCOSE\",\"PCO2\",\"POTASSIUM\",\"SODIUM\",\"CO2\"]\n",
    "    pred, roc = c_stat(forest, x_train_1, x_test_1, y_train_1, y_test_1, cols)\n",
    "    rf_lab_roc.append(roc)\n",
    "    print(\"total number of patients found by rf lab: %d\" %sum(pred>0.1))\n",
    "    print(\"patient found by rf lab:\",len([i for i in list(set(id_array[pred>0.1])) if i in id_true]))\n",
    "    print(\"non_event patient found by rf lab:\",len([i for i in list(set(id_array[pred>0.1])) if i in id_false]))\n",
    "    rf_lab_id += [i for i in list(set(id_array[pred>0.1])) if i in id_true]\n",
    "    \n",
    "    #  Predict with all ECG results\n",
    "    cols = ['hr', 's2.hr', 's8.hr', 's24.hr', 'n.edrk',\n",
    "           'edrk', 's2.edrk', 's8.edrk', 's24.edrk', 'srr', 'dfa', 'cosen', 'lds',\n",
    "           'af', 'AF']\n",
    "    pred, roc = c_stat(forest, x_train_1, x_test_1, y_train_1, y_test_1, cols)\n",
    "    rf_ecg_roc.append(roc)\n",
    "    print(\"total number of patients found by rf ecg: %d\" %sum(pred>0.1))\n",
    "    print(\"patient found by rf ecg:\",len([i for i in list(set(id_array[pred>0.1])) if i in id_true]))\n",
    "    print(\"non_event patient found by rf ecg:\",len([i for i in list(set(id_array[pred>0.1])) if i in id_false]))\n",
    "    rf_ecg_id += [i for i in list(set(id_array[pred>0.1])) if i in id_true]\n",
    "    \n",
    "    #=======\n",
    "    #naive bayes\n",
    "    #=======\n",
    "    #  Predict with all VS variables\n",
    "    svm = GaussianNB()\n",
    "    cols = [\"Pulse\",\"O2.Flow\",\"Resp\",\"SpO2\",\"SBP\",\"Glasgow.Coma.Scale.Total\"]\n",
    "    pred, roc = c_stat(svm, x_train_1, x_test_1, y_train_1, y_test_1, cols)\n",
    "    svm_vs_roc.append(roc)\n",
    "    \n",
    "    print(\"total number of patients found by gb vs: %d\" %sum(pred>0.1))\n",
    "    print(\"patient found by gb vs:\",len([i for i in list(set(id_array[pred>0.1])) if i in id_true]))\n",
    "    print(\"non_event patient found by gb vs:\",len([i for i in list(set(id_array[pred>0.1])) if i in id_false]))\n",
    "    svm_vs_id += [i for i in list(set(id_array[pred>0.1])) if i in id_true]\n",
    "    #  Predict with all lab variables\n",
    "    cols = [\"WHITE.BLOOD.CELL.COUNT\",\"BLOOD.UREA.NITROGEN\",\"AST.GOT\",\n",
    "            \"PLATELET.COUNT\",\"GLUCOSE\",\"PCO2\",\"POTASSIUM\",\"SODIUM\",\"CO2\"]\n",
    "    pred, roc = c_stat(svm, x_train_1, x_test_1, y_train_1, y_test_1, cols)\n",
    "    svm_lab_roc.append(roc)\n",
    "    print(\"total number of patients found by gb lab: %d\" %sum(pred>0.1))\n",
    "    print(\"patient found by gb lab:\",len([i for i in list(set(id_array[pred>0.1])) if i in id_true]))\n",
    "    print(\"non_event patient found by gb lab:\",len([i for i in list(set(id_array[pred>0.1])) if i in id_false]))\n",
    "    svm_lab_id += [i for i in list(set(id_array[pred>0.1])) if i in id_true]\n",
    "\n",
    "    #  Predict with all ECG results\n",
    "    cols = ['hr', 's2.hr', 's8.hr', 's24.hr', 'n.edrk',\n",
    "           'edrk', 's2.edrk', 's8.edrk', 's24.edrk', 'srr', 'dfa', 'cosen', 'lds',\n",
    "           'af', 'AF']\n",
    "    pred, roc = c_stat(svm, x_train_1, x_test_1, y_train_1, y_test_1, cols)\n",
    "    svm_ecg_roc.append(roc)\n",
    "    print(\"total number of patients found by gb ecg: %d\" %sum(pred>0.1))\n",
    "    print(\"patient found by gb ecg:\",len([i for i in list(set(id_array[pred>0.1])) if i in id_true]))\n",
    "    print(\"non_event patient found by gb ecg:\",len([i for i in list(set(id_array[pred>0.1])) if i in id_false]))\n",
    "    svm_ecg_id += [i for i in list(set(id_array[pred>0.1])) if i in id_true]"
   ]
  },
  {
   "cell_type": "code",
   "execution_count": 181,
   "metadata": {},
   "outputs": [
    {
     "data": {
      "text/plain": [
       "4706"
      ]
     },
     "execution_count": 181,
     "metadata": {},
     "output_type": "execute_result"
    }
   ],
   "source": [
    "len(df_train_1[df_train_1.y==True])"
   ]
  },
  {
   "cell_type": "code",
   "execution_count": 14,
   "metadata": {},
   "outputs": [
    {
     "data": {
      "text/plain": [
       "267"
      ]
     },
     "execution_count": 14,
     "metadata": {},
     "output_type": "execute_result"
    }
   ],
   "source": [
    "vs =log_vs_id + svm_vs_id  +rf_vs_id\n",
    "len(list(set(vs)))"
   ]
  },
  {
   "cell_type": "code",
   "execution_count": 15,
   "metadata": {},
   "outputs": [
    {
     "data": {
      "text/plain": [
       "169"
      ]
     },
     "execution_count": 15,
     "metadata": {},
     "output_type": "execute_result"
    }
   ],
   "source": [
    "labs =log_lab_id + svm_lab_id  +rf_lab_id\n",
    "len(list(set(labs)))"
   ]
  },
  {
   "cell_type": "code",
   "execution_count": 16,
   "metadata": {},
   "outputs": [
    {
     "data": {
      "text/plain": [
       "341"
      ]
     },
     "execution_count": 16,
     "metadata": {},
     "output_type": "execute_result"
    }
   ],
   "source": [
    "ecg =log_ecg_id + svm_ecg_id  +rf_ecg_id\n",
    "len(list(set(ecg)))"
   ]
  },
  {
   "cell_type": "code",
   "execution_count": 17,
   "metadata": {},
   "outputs": [
    {
     "data": {
      "text/plain": [
       "65"
      ]
     },
     "execution_count": 17,
     "metadata": {},
     "output_type": "execute_result"
    }
   ],
   "source": [
    "logist = log_vs_id + log_lab_id +log_ecg_id\n",
    "len(list(set(logist)))"
   ]
  },
  {
   "cell_type": "code",
   "execution_count": 18,
   "metadata": {},
   "outputs": [
    {
     "data": {
      "text/plain": [
       "262"
      ]
     },
     "execution_count": 18,
     "metadata": {},
     "output_type": "execute_result"
    }
   ],
   "source": [
    "rondonfor= rf_vs_id + rf_lab_id +rf_ecg_id\n",
    "len(list(set(rondonfor)))"
   ]
  },
  {
   "cell_type": "code",
   "execution_count": 19,
   "metadata": {},
   "outputs": [
    {
     "data": {
      "text/plain": [
       "346"
      ]
     },
     "execution_count": 19,
     "metadata": {},
     "output_type": "execute_result"
    }
   ],
   "source": [
    "nb = svm_lab_id + svm_lab_id + svm_ecg_id\n",
    "len(list(set(nb)))"
   ]
  }
 ],
 "metadata": {
  "kernelspec": {
   "display_name": "Python 3",
   "language": "python",
   "name": "python3"
  },
  "language_info": {
   "codemirror_mode": {
    "name": "ipython",
    "version": 3
   },
   "file_extension": ".py",
   "mimetype": "text/x-python",
   "name": "python",
   "nbconvert_exporter": "python",
   "pygments_lexer": "ipython3",
   "version": "3.6.5"
  }
 },
 "nbformat": 4,
 "nbformat_minor": 2
}
